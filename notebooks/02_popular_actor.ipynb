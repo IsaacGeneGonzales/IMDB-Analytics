{
 "cells": [
  {
   "cell_type": "markdown",
   "metadata": {},
   "source": [
    "# Exploratory Data Analysis (EDA) for Popular Actor Dataset"
   ]
  },
  {
   "cell_type": "markdown",
   "metadata": {},
   "source": [
    "### 1. Load and Inspect Data"
   ]
  },
  {
   "cell_type": "code",
   "execution_count": null,
   "metadata": {},
   "outputs": [],
   "source": [
    "import os\n",
    "import sys\n",
    "# Set the working directory to the project root\n",
    "os.chdir(\"/Users/isaacgonzales/Desktop/Sample\")\n",
    "sys.path.append(os.path.abspath(\"src\"))\n",
    "from src.data_fetching import load_imdb_data  \n",
    "import pandas as pd\n",
    "import numpy as np\n",
    "import seaborn as sns\n",
    "import matplotlib.pyplot as plt\n",
    "import scipy.stats as stats\n",
    "\n",
    "# Load data\n",
    "title_basics = load_imdb_data(\"title_basics\")\n",
    "title_principals = load_imdb_data(\"title_principals\")\n",
    "name_basics = load_imdb_data(\"name_basics\")\n",
    "title_ratings = load_imdb_data(\"title_ratings\")"
   ]
  },
  {
   "cell_type": "code",
   "execution_count": 2,
   "metadata": {},
   "outputs": [
    {
     "name": "stdout",
     "output_type": "stream",
     "text": [
      "<class 'pandas.core.frame.DataFrame'>\n",
      "RangeIndex: 11516411 entries, 0 to 11516410\n",
      "Data columns (total 9 columns):\n",
      " #   Column          Dtype  \n",
      "---  ------          -----  \n",
      " 0   tconst          string \n",
      " 1   titleType       string \n",
      " 2   primaryTitle    string \n",
      " 3   originalTitle   string \n",
      " 4   isAdult         boolean\n",
      " 5   startYear       Int64  \n",
      " 6   endYear         Int64  \n",
      " 7   runtimeMinutes  Int64  \n",
      " 8   genres          string \n",
      "dtypes: Int64(3), boolean(1), string(5)\n",
      "memory usage: 757.8 MB\n"
     ]
    },
    {
     "data": {
      "text/plain": [
       "None"
      ]
     },
     "metadata": {},
     "output_type": "display_data"
    },
    {
     "name": "stdout",
     "output_type": "stream",
     "text": [
      "<class 'pandas.core.frame.DataFrame'>\n",
      "RangeIndex: 91381089 entries, 0 to 91381088\n",
      "Data columns (total 6 columns):\n",
      " #   Column      Dtype \n",
      "---  ------      ----- \n",
      " 0   tconst      string\n",
      " 1   ordering    Int64 \n",
      " 2   nconst      string\n",
      " 3   category    string\n",
      " 4   job         string\n",
      " 5   characters  string\n",
      "dtypes: Int64(1), string(5)\n",
      "memory usage: 4.2 GB\n"
     ]
    },
    {
     "data": {
      "text/plain": [
       "None"
      ]
     },
     "metadata": {},
     "output_type": "display_data"
    }
   ],
   "source": [
    "# Inspect and validate data types (1/2)\n",
    "display(title_basics.info())\n",
    "display(title_principals.info())"
   ]
  },
  {
   "cell_type": "code",
   "execution_count": null,
   "metadata": {},
   "outputs": [
    {
     "name": "stdout",
     "output_type": "stream",
     "text": [
      "<class 'pandas.core.frame.DataFrame'>\n",
      "RangeIndex: 14248387 entries, 0 to 14248386\n",
      "Data columns (total 6 columns):\n",
      " #   Column             Dtype \n",
      "---  ------             ----- \n",
      " 0   nconst             string\n",
      " 1   primaryName        string\n",
      " 2   birthYear          Int64 \n",
      " 3   deathYear          Int64 \n",
      " 4   primaryProfession  string\n",
      " 5   knownForTitles     string\n",
      "dtypes: Int64(2), string(4)\n",
      "memory usage: 679.4 MB\n"
     ]
    },
    {
     "data": {
      "text/plain": [
       "None"
      ]
     },
     "metadata": {},
     "output_type": "display_data"
    },
    {
     "name": "stdout",
     "output_type": "stream",
     "text": [
      "<class 'pandas.core.frame.DataFrame'>\n",
      "RangeIndex: 1544438 entries, 0 to 1544437\n",
      "Data columns (total 3 columns):\n",
      " #   Column         Non-Null Count    Dtype  \n",
      "---  ------         --------------    -----  \n",
      " 0   tconst         1544438 non-null  string \n",
      " 1   averageRating  1544438 non-null  float64\n",
      " 2   numVotes       1544438 non-null  Int64  \n",
      "dtypes: Int64(1), float64(1), string(1)\n",
      "memory usage: 36.8 MB\n"
     ]
    },
    {
     "data": {
      "text/plain": [
       "None"
      ]
     },
     "metadata": {},
     "output_type": "display_data"
    }
   ],
   "source": [
    "# Inspect and validate data types (2/2)\n",
    "display(name_basics.info())\n",
    "display(title_ratings.info())"
   ]
  },
  {
   "cell_type": "code",
   "execution_count": 4,
   "metadata": {},
   "outputs": [
    {
     "data": {
      "text/plain": [
       "['self',\n",
       " 'director',\n",
       " 'producer',\n",
       " 'cinematographer',\n",
       " 'composer',\n",
       " 'writer',\n",
       " 'editor',\n",
       " 'actor',\n",
       " 'actress',\n",
       " 'production_designer',\n",
       " 'archive_footage',\n",
       " 'casting_director',\n",
       " 'archive_sound']"
      ]
     },
     "execution_count": 4,
     "metadata": {},
     "output_type": "execute_result"
    }
   ],
   "source": [
    "# List all job categories\n",
    "list(title_principals['category'].unique())"
   ]
  },
  {
   "cell_type": "markdown",
   "metadata": {},
   "source": [
    "### 2. Filter Data for 2020 Movies"
   ]
  },
  {
   "cell_type": "code",
   "execution_count": 5,
   "metadata": {},
   "outputs": [],
   "source": [
    "# Filter the Movie type titles in year 2020\n",
    "movies = title_basics[(title_basics[\"startYear\"] == 2020) & (title_basics[\"titleType\"].isin([\"movie\", \"tvMovie\"]))]"
   ]
  },
  {
   "cell_type": "markdown",
   "metadata": {},
   "source": [
    "### 3. Identify Actors from Cast Data"
   ]
  },
  {
   "cell_type": "code",
   "execution_count": 6,
   "metadata": {},
   "outputs": [],
   "source": [
    "# Join title_principals with \"movies\" to get cast members\n",
    "casts = title_principals.merge(movies, on=\"tconst\", how=\"inner\")\n",
    "\n",
    "# Filter only actors and actresses\n",
    "casts= casts[casts[\"category\"].isin([\"actor\", \"actress\"])]\n",
    "\n",
    "# Merge the \"casts\" table with \"name_basics\" table to get actor names\n",
    "actors = casts.merge(name_basics, on=\"nconst\", how=\"inner\")\n"
   ]
  },
  {
   "cell_type": "code",
   "execution_count": 7,
   "metadata": {},
   "outputs": [
    {
     "data": {
      "text/html": [
       "<div>\n",
       "<style scoped>\n",
       "    .dataframe tbody tr th:only-of-type {\n",
       "        vertical-align: middle;\n",
       "    }\n",
       "\n",
       "    .dataframe tbody tr th {\n",
       "        vertical-align: top;\n",
       "    }\n",
       "\n",
       "    .dataframe thead th {\n",
       "        text-align: right;\n",
       "    }\n",
       "</style>\n",
       "<table border=\"1\" class=\"dataframe\">\n",
       "  <thead>\n",
       "    <tr style=\"text-align: right;\">\n",
       "      <th></th>\n",
       "      <th>tconst</th>\n",
       "      <th>ordering</th>\n",
       "      <th>nconst</th>\n",
       "      <th>category</th>\n",
       "      <th>job</th>\n",
       "      <th>characters</th>\n",
       "      <th>titleType</th>\n",
       "      <th>primaryTitle</th>\n",
       "      <th>originalTitle</th>\n",
       "      <th>isAdult</th>\n",
       "      <th>startYear</th>\n",
       "      <th>endYear</th>\n",
       "      <th>runtimeMinutes</th>\n",
       "      <th>genres</th>\n",
       "      <th>primaryName</th>\n",
       "      <th>birthYear</th>\n",
       "      <th>deathYear</th>\n",
       "      <th>primaryProfession</th>\n",
       "      <th>knownForTitles</th>\n",
       "    </tr>\n",
       "  </thead>\n",
       "  <tbody>\n",
       "    <tr>\n",
       "      <th>0</th>\n",
       "      <td>tt0062336</td>\n",
       "      <td>1</td>\n",
       "      <td>nm0815612</td>\n",
       "      <td>actor</td>\n",
       "      <td>&lt;NA&gt;</td>\n",
       "      <td>[\"Viudo\"]</td>\n",
       "      <td>movie</td>\n",
       "      <td>The Tango of the Widower and Its Distorting Mi...</td>\n",
       "      <td>El tango del viudo y su espejo deformante</td>\n",
       "      <td>False</td>\n",
       "      <td>2020</td>\n",
       "      <td>&lt;NA&gt;</td>\n",
       "      <td>70</td>\n",
       "      <td>Drama</td>\n",
       "      <td>Rubén Sotoconil</td>\n",
       "      <td>1916</td>\n",
       "      <td>2002</td>\n",
       "      <td>actor</td>\n",
       "      <td>tt0189469,tt0064147,tt0094084,tt0130375</td>\n",
       "    </tr>\n",
       "    <tr>\n",
       "      <th>1</th>\n",
       "      <td>tt0062336</td>\n",
       "      <td>2</td>\n",
       "      <td>nm1860495</td>\n",
       "      <td>actress</td>\n",
       "      <td>&lt;NA&gt;</td>\n",
       "      <td>[\"Fantasma\"]</td>\n",
       "      <td>movie</td>\n",
       "      <td>The Tango of the Widower and Its Distorting Mi...</td>\n",
       "      <td>El tango del viudo y su espejo deformante</td>\n",
       "      <td>False</td>\n",
       "      <td>2020</td>\n",
       "      <td>&lt;NA&gt;</td>\n",
       "      <td>70</td>\n",
       "      <td>Drama</td>\n",
       "      <td>Claudia Paz</td>\n",
       "      <td>1920</td>\n",
       "      <td>2015</td>\n",
       "      <td>actress</td>\n",
       "      <td>tt1187044,tt0454087,tt7131488,tt29466927</td>\n",
       "    </tr>\n",
       "    <tr>\n",
       "      <th>2</th>\n",
       "      <td>tt0062336</td>\n",
       "      <td>3</td>\n",
       "      <td>nm0016013</td>\n",
       "      <td>actor</td>\n",
       "      <td>&lt;NA&gt;</td>\n",
       "      <td>[\"Silva\"]</td>\n",
       "      <td>movie</td>\n",
       "      <td>The Tango of the Widower and Its Distorting Mi...</td>\n",
       "      <td>El tango del viudo y su espejo deformante</td>\n",
       "      <td>False</td>\n",
       "      <td>2020</td>\n",
       "      <td>&lt;NA&gt;</td>\n",
       "      <td>70</td>\n",
       "      <td>Drama</td>\n",
       "      <td>Luis Alarcón</td>\n",
       "      <td>1929</td>\n",
       "      <td>2023</td>\n",
       "      <td>actor,special_effects,producer</td>\n",
       "      <td>tt0379108,tt0242198,tt1947646,tt3234226</td>\n",
       "    </tr>\n",
       "    <tr>\n",
       "      <th>3</th>\n",
       "      <td>tt0062336</td>\n",
       "      <td>4</td>\n",
       "      <td>nm0739834</td>\n",
       "      <td>actress</td>\n",
       "      <td>&lt;NA&gt;</td>\n",
       "      <td>[\"Lola\"]</td>\n",
       "      <td>movie</td>\n",
       "      <td>The Tango of the Widower and Its Distorting Mi...</td>\n",
       "      <td>El tango del viudo y su espejo deformante</td>\n",
       "      <td>False</td>\n",
       "      <td>2020</td>\n",
       "      <td>&lt;NA&gt;</td>\n",
       "      <td>70</td>\n",
       "      <td>Drama</td>\n",
       "      <td>Shenda Román</td>\n",
       "      <td>1928</td>\n",
       "      <td>&lt;NA&gt;</td>\n",
       "      <td>actress</td>\n",
       "      <td>tt2128535,tt3550512,tt0063718,tt0064147</td>\n",
       "    </tr>\n",
       "    <tr>\n",
       "      <th>4</th>\n",
       "      <td>tt0062336</td>\n",
       "      <td>5</td>\n",
       "      <td>nm2065080</td>\n",
       "      <td>actor</td>\n",
       "      <td>&lt;NA&gt;</td>\n",
       "      <td>[\"Sobrino\"]</td>\n",
       "      <td>movie</td>\n",
       "      <td>The Tango of the Widower and Its Distorting Mi...</td>\n",
       "      <td>El tango del viudo y su espejo deformante</td>\n",
       "      <td>False</td>\n",
       "      <td>2020</td>\n",
       "      <td>&lt;NA&gt;</td>\n",
       "      <td>70</td>\n",
       "      <td>Drama</td>\n",
       "      <td>Luis Vilches</td>\n",
       "      <td>&lt;NA&gt;</td>\n",
       "      <td>&lt;NA&gt;</td>\n",
       "      <td>actor</td>\n",
       "      <td>tt0067475,tt0062336,tt0480613</td>\n",
       "    </tr>\n",
       "  </tbody>\n",
       "</table>\n",
       "</div>"
      ],
      "text/plain": [
       "      tconst  ordering     nconst category   job    characters titleType  \\\n",
       "0  tt0062336         1  nm0815612    actor  <NA>     [\"Viudo\"]     movie   \n",
       "1  tt0062336         2  nm1860495  actress  <NA>  [\"Fantasma\"]     movie   \n",
       "2  tt0062336         3  nm0016013    actor  <NA>     [\"Silva\"]     movie   \n",
       "3  tt0062336         4  nm0739834  actress  <NA>      [\"Lola\"]     movie   \n",
       "4  tt0062336         5  nm2065080    actor  <NA>   [\"Sobrino\"]     movie   \n",
       "\n",
       "                                        primaryTitle  \\\n",
       "0  The Tango of the Widower and Its Distorting Mi...   \n",
       "1  The Tango of the Widower and Its Distorting Mi...   \n",
       "2  The Tango of the Widower and Its Distorting Mi...   \n",
       "3  The Tango of the Widower and Its Distorting Mi...   \n",
       "4  The Tango of the Widower and Its Distorting Mi...   \n",
       "\n",
       "                               originalTitle  isAdult  startYear  endYear  \\\n",
       "0  El tango del viudo y su espejo deformante    False       2020     <NA>   \n",
       "1  El tango del viudo y su espejo deformante    False       2020     <NA>   \n",
       "2  El tango del viudo y su espejo deformante    False       2020     <NA>   \n",
       "3  El tango del viudo y su espejo deformante    False       2020     <NA>   \n",
       "4  El tango del viudo y su espejo deformante    False       2020     <NA>   \n",
       "\n",
       "   runtimeMinutes genres      primaryName  birthYear  deathYear  \\\n",
       "0              70  Drama  Rubén Sotoconil       1916       2002   \n",
       "1              70  Drama      Claudia Paz       1920       2015   \n",
       "2              70  Drama     Luis Alarcón       1929       2023   \n",
       "3              70  Drama     Shenda Román       1928       <NA>   \n",
       "4              70  Drama     Luis Vilches       <NA>       <NA>   \n",
       "\n",
       "                primaryProfession                            knownForTitles  \n",
       "0                           actor   tt0189469,tt0064147,tt0094084,tt0130375  \n",
       "1                         actress  tt1187044,tt0454087,tt7131488,tt29466927  \n",
       "2  actor,special_effects,producer   tt0379108,tt0242198,tt1947646,tt3234226  \n",
       "3                         actress   tt2128535,tt3550512,tt0063718,tt0064147  \n",
       "4                           actor             tt0067475,tt0062336,tt0480613  "
      ]
     },
     "metadata": {},
     "output_type": "display_data"
    }
   ],
   "source": [
    "display(actors.sort_values([\"tconst\",\"ordering\"]).head(5))"
   ]
  },
  {
   "cell_type": "markdown",
   "metadata": {},
   "source": [
    "### 4. Define Popularity Metrics"
   ]
  },
  {
   "cell_type": "code",
   "execution_count": 8,
   "metadata": {},
   "outputs": [
    {
     "data": {
      "text/html": [
       "<div>\n",
       "<style scoped>\n",
       "    .dataframe tbody tr th:only-of-type {\n",
       "        vertical-align: middle;\n",
       "    }\n",
       "\n",
       "    .dataframe tbody tr th {\n",
       "        vertical-align: top;\n",
       "    }\n",
       "\n",
       "    .dataframe thead th {\n",
       "        text-align: right;\n",
       "    }\n",
       "</style>\n",
       "<table border=\"1\" class=\"dataframe\">\n",
       "  <thead>\n",
       "    <tr style=\"text-align: right;\">\n",
       "      <th></th>\n",
       "      <th>tconst</th>\n",
       "      <th>ordering</th>\n",
       "      <th>nconst</th>\n",
       "      <th>category</th>\n",
       "      <th>job</th>\n",
       "      <th>characters</th>\n",
       "      <th>titleType</th>\n",
       "      <th>primaryTitle</th>\n",
       "      <th>originalTitle</th>\n",
       "      <th>isAdult</th>\n",
       "      <th>...</th>\n",
       "      <th>endYear</th>\n",
       "      <th>runtimeMinutes</th>\n",
       "      <th>genres</th>\n",
       "      <th>primaryName</th>\n",
       "      <th>birthYear</th>\n",
       "      <th>deathYear</th>\n",
       "      <th>primaryProfession</th>\n",
       "      <th>knownForTitles</th>\n",
       "      <th>averageRating</th>\n",
       "      <th>numVotes</th>\n",
       "    </tr>\n",
       "  </thead>\n",
       "  <tbody>\n",
       "    <tr>\n",
       "      <th>0</th>\n",
       "      <td>tt0062336</td>\n",
       "      <td>1</td>\n",
       "      <td>nm0815612</td>\n",
       "      <td>actor</td>\n",
       "      <td>&lt;NA&gt;</td>\n",
       "      <td>[\"Viudo\"]</td>\n",
       "      <td>movie</td>\n",
       "      <td>The Tango of the Widower and Its Distorting Mi...</td>\n",
       "      <td>El tango del viudo y su espejo deformante</td>\n",
       "      <td>False</td>\n",
       "      <td>...</td>\n",
       "      <td>&lt;NA&gt;</td>\n",
       "      <td>70</td>\n",
       "      <td>Drama</td>\n",
       "      <td>Rubén Sotoconil</td>\n",
       "      <td>1916</td>\n",
       "      <td>2002</td>\n",
       "      <td>actor</td>\n",
       "      <td>tt0189469,tt0064147,tt0094084,tt0130375</td>\n",
       "      <td>6.4</td>\n",
       "      <td>229</td>\n",
       "    </tr>\n",
       "    <tr>\n",
       "      <th>1</th>\n",
       "      <td>tt0062336</td>\n",
       "      <td>2</td>\n",
       "      <td>nm1860495</td>\n",
       "      <td>actress</td>\n",
       "      <td>&lt;NA&gt;</td>\n",
       "      <td>[\"Fantasma\"]</td>\n",
       "      <td>movie</td>\n",
       "      <td>The Tango of the Widower and Its Distorting Mi...</td>\n",
       "      <td>El tango del viudo y su espejo deformante</td>\n",
       "      <td>False</td>\n",
       "      <td>...</td>\n",
       "      <td>&lt;NA&gt;</td>\n",
       "      <td>70</td>\n",
       "      <td>Drama</td>\n",
       "      <td>Claudia Paz</td>\n",
       "      <td>1920</td>\n",
       "      <td>2015</td>\n",
       "      <td>actress</td>\n",
       "      <td>tt1187044,tt0454087,tt7131488,tt29466927</td>\n",
       "      <td>6.4</td>\n",
       "      <td>229</td>\n",
       "    </tr>\n",
       "    <tr>\n",
       "      <th>2</th>\n",
       "      <td>tt0062336</td>\n",
       "      <td>3</td>\n",
       "      <td>nm0016013</td>\n",
       "      <td>actor</td>\n",
       "      <td>&lt;NA&gt;</td>\n",
       "      <td>[\"Silva\"]</td>\n",
       "      <td>movie</td>\n",
       "      <td>The Tango of the Widower and Its Distorting Mi...</td>\n",
       "      <td>El tango del viudo y su espejo deformante</td>\n",
       "      <td>False</td>\n",
       "      <td>...</td>\n",
       "      <td>&lt;NA&gt;</td>\n",
       "      <td>70</td>\n",
       "      <td>Drama</td>\n",
       "      <td>Luis Alarcón</td>\n",
       "      <td>1929</td>\n",
       "      <td>2023</td>\n",
       "      <td>actor,special_effects,producer</td>\n",
       "      <td>tt0379108,tt0242198,tt1947646,tt3234226</td>\n",
       "      <td>6.4</td>\n",
       "      <td>229</td>\n",
       "    </tr>\n",
       "    <tr>\n",
       "      <th>3</th>\n",
       "      <td>tt0062336</td>\n",
       "      <td>4</td>\n",
       "      <td>nm0739834</td>\n",
       "      <td>actress</td>\n",
       "      <td>&lt;NA&gt;</td>\n",
       "      <td>[\"Lola\"]</td>\n",
       "      <td>movie</td>\n",
       "      <td>The Tango of the Widower and Its Distorting Mi...</td>\n",
       "      <td>El tango del viudo y su espejo deformante</td>\n",
       "      <td>False</td>\n",
       "      <td>...</td>\n",
       "      <td>&lt;NA&gt;</td>\n",
       "      <td>70</td>\n",
       "      <td>Drama</td>\n",
       "      <td>Shenda Román</td>\n",
       "      <td>1928</td>\n",
       "      <td>&lt;NA&gt;</td>\n",
       "      <td>actress</td>\n",
       "      <td>tt2128535,tt3550512,tt0063718,tt0064147</td>\n",
       "      <td>6.4</td>\n",
       "      <td>229</td>\n",
       "    </tr>\n",
       "    <tr>\n",
       "      <th>4</th>\n",
       "      <td>tt0062336</td>\n",
       "      <td>5</td>\n",
       "      <td>nm2065080</td>\n",
       "      <td>actor</td>\n",
       "      <td>&lt;NA&gt;</td>\n",
       "      <td>[\"Sobrino\"]</td>\n",
       "      <td>movie</td>\n",
       "      <td>The Tango of the Widower and Its Distorting Mi...</td>\n",
       "      <td>El tango del viudo y su espejo deformante</td>\n",
       "      <td>False</td>\n",
       "      <td>...</td>\n",
       "      <td>&lt;NA&gt;</td>\n",
       "      <td>70</td>\n",
       "      <td>Drama</td>\n",
       "      <td>Luis Vilches</td>\n",
       "      <td>&lt;NA&gt;</td>\n",
       "      <td>&lt;NA&gt;</td>\n",
       "      <td>actor</td>\n",
       "      <td>tt0067475,tt0062336,tt0480613</td>\n",
       "      <td>6.4</td>\n",
       "      <td>229</td>\n",
       "    </tr>\n",
       "  </tbody>\n",
       "</table>\n",
       "<p>5 rows × 21 columns</p>\n",
       "</div>"
      ],
      "text/plain": [
       "      tconst  ordering     nconst category   job    characters titleType  \\\n",
       "0  tt0062336         1  nm0815612    actor  <NA>     [\"Viudo\"]     movie   \n",
       "1  tt0062336         2  nm1860495  actress  <NA>  [\"Fantasma\"]     movie   \n",
       "2  tt0062336         3  nm0016013    actor  <NA>     [\"Silva\"]     movie   \n",
       "3  tt0062336         4  nm0739834  actress  <NA>      [\"Lola\"]     movie   \n",
       "4  tt0062336         5  nm2065080    actor  <NA>   [\"Sobrino\"]     movie   \n",
       "\n",
       "                                        primaryTitle  \\\n",
       "0  The Tango of the Widower and Its Distorting Mi...   \n",
       "1  The Tango of the Widower and Its Distorting Mi...   \n",
       "2  The Tango of the Widower and Its Distorting Mi...   \n",
       "3  The Tango of the Widower and Its Distorting Mi...   \n",
       "4  The Tango of the Widower and Its Distorting Mi...   \n",
       "\n",
       "                               originalTitle  isAdult  ...  endYear  \\\n",
       "0  El tango del viudo y su espejo deformante    False  ...     <NA>   \n",
       "1  El tango del viudo y su espejo deformante    False  ...     <NA>   \n",
       "2  El tango del viudo y su espejo deformante    False  ...     <NA>   \n",
       "3  El tango del viudo y su espejo deformante    False  ...     <NA>   \n",
       "4  El tango del viudo y su espejo deformante    False  ...     <NA>   \n",
       "\n",
       "   runtimeMinutes  genres      primaryName birthYear  deathYear  \\\n",
       "0              70   Drama  Rubén Sotoconil      1916       2002   \n",
       "1              70   Drama      Claudia Paz      1920       2015   \n",
       "2              70   Drama     Luis Alarcón      1929       2023   \n",
       "3              70   Drama     Shenda Román      1928       <NA>   \n",
       "4              70   Drama     Luis Vilches      <NA>       <NA>   \n",
       "\n",
       "                primaryProfession                            knownForTitles  \\\n",
       "0                           actor   tt0189469,tt0064147,tt0094084,tt0130375   \n",
       "1                         actress  tt1187044,tt0454087,tt7131488,tt29466927   \n",
       "2  actor,special_effects,producer   tt0379108,tt0242198,tt1947646,tt3234226   \n",
       "3                         actress   tt2128535,tt3550512,tt0063718,tt0064147   \n",
       "4                           actor             tt0067475,tt0062336,tt0480613   \n",
       "\n",
       "  averageRating  numVotes  \n",
       "0           6.4       229  \n",
       "1           6.4       229  \n",
       "2           6.4       229  \n",
       "3           6.4       229  \n",
       "4           6.4       229  \n",
       "\n",
       "[5 rows x 21 columns]"
      ]
     },
     "metadata": {},
     "output_type": "display_data"
    }
   ],
   "source": [
    "# Merge with ratings to get movie popularity data\n",
    "actors = actors.merge(title_ratings, on=\"tconst\", how=\"left\")\n",
    "display(actors.sort_values([\"tconst\",\"ordering\"]).head(5))"
   ]
  },
  {
   "cell_type": "markdown",
   "metadata": {},
   "source": [
    "The popularity score is computed using a weighted formula that balances three key factors:\n",
    "- ***Number of appearances:*** How many movies an actor starred in during 2020.\n",
    "- ***Average rating of their movies:*** The quality of movies they appeared in.\n",
    "- ***Total votes on their movies:*** How many people engaged with their movies."
   ]
  },
  {
   "cell_type": "code",
   "execution_count": 9,
   "metadata": {},
   "outputs": [],
   "source": [
    "# Compute metrics\n",
    "actor_counts = actors[\"nconst\"].value_counts()\n",
    "actor_avg_ratings = actors.groupby(\"nconst\")[\"averageRating\"].mean()\n",
    "actor_total_votes = actors.groupby(\"nconst\")[\"numVotes\"].sum()"
   ]
  },
  {
   "cell_type": "code",
   "execution_count": 10,
   "metadata": {},
   "outputs": [],
   "source": [
    "# Placeholder: Dictionary with genre counts (01_highest_rated_movie.ipynb)\n",
    "genre_counts = {\n",
    "    \"Drama\": 6,\n",
    "    \"Animation\": 4,\n",
    "    \"Action\": 2,\n",
    "    \"Biography\": 2,\n",
    "\t\"Fantasy\": 2,\n",
    "\t\"Adventure\": 2,\n",
    "\t\"Documentary\": 1,\n",
    "\t\"Comedy\": 1,\n",
    "\t\"Romance\": 1,\n",
    "\t\"Mystery\": 1,\n",
    "\t\"History\": 1\t\n",
    "}\n",
    "# Convert counts to probabilities (marginal distribution)\n",
    "total_genres = sum(genre_counts.values())\n",
    "genre_probabilities = {g: count / total_genres for g, count in genre_counts.items()}\n",
    "\n",
    "# Assign genre weight directly\n",
    "actors[\"genre_weight\"] = actors[\"genres\"].fillna(\"\").str.split(\",\").apply(\n",
    "    lambda x: sum(genre_probabilities.get(g, 0) for g in x)\n",
    ")\n"
   ]
  },
  {
   "cell_type": "markdown",
   "metadata": {},
   "source": [
    "### 5. Compute the Popularity Score"
   ]
  },
  {
   "cell_type": "markdown",
   "metadata": {},
   "source": [
    "The **popularity score** is defined as:  \n",
    "$$\n",
    "\\text{popularity\\_score}_i = (0.4 \\times \\text{actor\\_counts\\_norm}_i) + (0.4 \\times \\text{actor\\_total\\_votes\\_norm}_i) + (0.2 \\times \\text{genre\\_weight}_i)\n",
    "$$  \n",
    "\n",
    "Where:  \n",
    "- $ \\text{actor\\_counts\\_norm}_i $ is the normalized count of movies for actor $ i $.  \n",
    "- $ \\text{actor\\_total\\_votes\\_norm}_i $ is the normalized total votes for actor $ i $.  \n",
    "- $ \\text{genre\\_weight}_i $ is the weighted sum of genre probabilities for actor $ i $.  \n"
   ]
  },
  {
   "cell_type": "code",
   "execution_count": 11,
   "metadata": {},
   "outputs": [],
   "source": [
    "# Ensure genre_weight is also indexed by actor ID\n",
    "genre_weight = actors.groupby(\"nconst\")[\"genre_weight\"].first()\n",
    "\n",
    "# Normalize metrics\n",
    "actor_counts_norm = actor_counts / actor_counts.max()\n",
    "actor_total_votes_norm = actor_total_votes / actor_total_votes.max()\n",
    "\n",
    "# Define weighted popularity score\n",
    "popularity_score = (actor_counts_norm * 0.3) + (actor_total_votes_norm * 0.4) + (genre_weight * 0.3)\n"
   ]
  },
  {
   "cell_type": "code",
   "execution_count": 12,
   "metadata": {},
   "outputs": [],
   "source": [
    "# Create final ranking\n",
    "actor_popularity = pd.DataFrame({\n",
    "    \"Actor\": popularity_score.index,  \n",
    "    \"Score\": popularity_score.values,\n",
    "    \"Movies\": actor_counts.loc[popularity_score.index].values,\n",
    "    \"Total Votes\": actor_total_votes.loc[popularity_score.index].values,\n",
    "    \"Genre Weight\": genre_weight.loc[popularity_score.index].values\n",
    "}).sort_values(by=\"Score\", ascending=False)\n",
    "\n",
    "# Merge back actor names for readability\n",
    "actor_popularity = actor_popularity.merge(name_basics[[\"nconst\", \"primaryName\"]], \n",
    "                                          left_on=\"Actor\", right_on=\"nconst\", how=\"left\")\n",
    "\n",
    "# Reorder columns\n",
    "actor_popularity = actor_popularity[[\"Actor\", \"primaryName\", \"Score\", \"Movies\", \"Total Votes\", \"Genre Weight\"]]"
   ]
  },
  {
   "cell_type": "markdown",
   "metadata": {},
   "source": [
    "### 6. Insights and Conclusion"
   ]
  },
  {
   "cell_type": "code",
   "execution_count": 13,
   "metadata": {},
   "outputs": [
    {
     "data": {
      "text/html": [
       "<div>\n",
       "<style scoped>\n",
       "    .dataframe tbody tr th:only-of-type {\n",
       "        vertical-align: middle;\n",
       "    }\n",
       "\n",
       "    .dataframe tbody tr th {\n",
       "        vertical-align: top;\n",
       "    }\n",
       "\n",
       "    .dataframe thead th {\n",
       "        text-align: right;\n",
       "    }\n",
       "</style>\n",
       "<table border=\"1\" class=\"dataframe\">\n",
       "  <thead>\n",
       "    <tr style=\"text-align: right;\">\n",
       "      <th></th>\n",
       "      <th>Actor</th>\n",
       "      <th>primaryName</th>\n",
       "      <th>Score</th>\n",
       "      <th>Movies</th>\n",
       "      <th>Total Votes</th>\n",
       "      <th>Genre Weight</th>\n",
       "    </tr>\n",
       "  </thead>\n",
       "  <tbody>\n",
       "    <tr>\n",
       "      <th>0</th>\n",
       "      <td>nm0991553</td>\n",
       "      <td>Rich Ceraulo Ko</td>\n",
       "      <td>0.44</td>\n",
       "      <td>3</td>\n",
       "      <td>1255106</td>\n",
       "      <td>0.04</td>\n",
       "    </tr>\n",
       "    <tr>\n",
       "      <th>1</th>\n",
       "      <td>nm2993483</td>\n",
       "      <td>Simon Hill</td>\n",
       "      <td>0.37</td>\n",
       "      <td>36</td>\n",
       "      <td>750</td>\n",
       "      <td>0.22</td>\n",
       "    </tr>\n",
       "    <tr>\n",
       "      <th>2</th>\n",
       "      <td>nm0000616</td>\n",
       "      <td>Eric Roberts</td>\n",
       "      <td>0.29</td>\n",
       "      <td>27</td>\n",
       "      <td>6823</td>\n",
       "      <td>0.22</td>\n",
       "    </tr>\n",
       "    <tr>\n",
       "      <th>3</th>\n",
       "      <td>nm0582149</td>\n",
       "      <td>Chris Messina</td>\n",
       "      <td>0.29</td>\n",
       "      <td>5</td>\n",
       "      <td>440800</td>\n",
       "      <td>0.35</td>\n",
       "    </tr>\n",
       "    <tr>\n",
       "      <th>4</th>\n",
       "      <td>nm3916460</td>\n",
       "      <td>Okieriete Onaodowan</td>\n",
       "      <td>0.28</td>\n",
       "      <td>3</td>\n",
       "      <td>551746</td>\n",
       "      <td>0.26</td>\n",
       "    </tr>\n",
       "    <tr>\n",
       "      <th>5</th>\n",
       "      <td>nm0103797</td>\n",
       "      <td>Alice Braga</td>\n",
       "      <td>0.28</td>\n",
       "      <td>3</td>\n",
       "      <td>500753</td>\n",
       "      <td>0.30</td>\n",
       "    </tr>\n",
       "    <tr>\n",
       "      <th>6</th>\n",
       "      <td>nm0711118</td>\n",
       "      <td>Phylicia Rashad</td>\n",
       "      <td>0.27</td>\n",
       "      <td>4</td>\n",
       "      <td>461064</td>\n",
       "      <td>0.30</td>\n",
       "    </tr>\n",
       "    <tr>\n",
       "      <th>7</th>\n",
       "      <td>nm9898052</td>\n",
       "      <td>Kelsey Painter</td>\n",
       "      <td>0.27</td>\n",
       "      <td>26</td>\n",
       "      <td>403</td>\n",
       "      <td>0.17</td>\n",
       "    </tr>\n",
       "    <tr>\n",
       "      <th>8</th>\n",
       "      <td>nm0004937</td>\n",
       "      <td>Jamie Foxx</td>\n",
       "      <td>0.27</td>\n",
       "      <td>2</td>\n",
       "      <td>503995</td>\n",
       "      <td>0.30</td>\n",
       "    </tr>\n",
       "    <tr>\n",
       "      <th>9</th>\n",
       "      <td>nm0882616</td>\n",
       "      <td>Ivo Uukkivi</td>\n",
       "      <td>0.26</td>\n",
       "      <td>3</td>\n",
       "      <td>625047</td>\n",
       "      <td>0.13</td>\n",
       "    </tr>\n",
       "  </tbody>\n",
       "</table>\n",
       "</div>"
      ],
      "text/plain": [
       "       Actor          primaryName  Score  Movies  Total Votes  Genre Weight\n",
       "0  nm0991553      Rich Ceraulo Ko   0.44       3      1255106          0.04\n",
       "1  nm2993483           Simon Hill   0.37      36          750          0.22\n",
       "2  nm0000616         Eric Roberts   0.29      27         6823          0.22\n",
       "3  nm0582149        Chris Messina   0.29       5       440800          0.35\n",
       "4  nm3916460  Okieriete Onaodowan   0.28       3       551746          0.26\n",
       "5  nm0103797          Alice Braga   0.28       3       500753          0.30\n",
       "6  nm0711118      Phylicia Rashad   0.27       4       461064          0.30\n",
       "7  nm9898052       Kelsey Painter   0.27      26          403          0.17\n",
       "8  nm0004937           Jamie Foxx   0.27       2       503995          0.30\n",
       "9  nm0882616          Ivo Uukkivi   0.26       3       625047          0.13"
      ]
     },
     "metadata": {},
     "output_type": "display_data"
    }
   ],
   "source": [
    "# List the top 10 most popular actors\n",
    "pd.set_option('display.float_format', '{:.2f}'.format)\n",
    "display(actor_popularity.head(10))"
   ]
  },
  {
   "cell_type": "code",
   "execution_count": 14,
   "metadata": {},
   "outputs": [
    {
     "data": {
      "image/png": "[encoded data removed]",
      "text/plain": [
       "<Figure size 1200x600 with 1 Axes>"
      ]
     },
     "metadata": {},
     "output_type": "display_data"
    }
   ],
   "source": [
    "# Visualize\n",
    "plt.figure(figsize=(12,6))\n",
    "sns.barplot(x=\"Score\", y=\"primaryName\", data=actor_popularity.head(10))\n",
    "plt.title(\"Top 10 Most Popular Actors in 2020\")\n",
    "plt.show()"
   ]
  },
  {
   "cell_type": "code",
   "execution_count": 15,
   "metadata": {},
   "outputs": [
    {
     "data": {
      "image/png": "[encoded data removed]",
      "text/plain": [
       "<Figure size 1000x500 with 1 Axes>"
      ]
     },
     "metadata": {},
     "output_type": "display_data"
    }
   ],
   "source": [
    "# Scatter plot: Movies vs. Total Votes\n",
    "actor_popularity[\"Movies\"] = actor_popularity[\"Movies\"].astype(\"int64\")\n",
    "actor_popularity[\"Total Votes\"] = actor_popularity[\"Total Votes\"].astype(\"int64\")\n",
    "actor_popularity[\"Score\"] = actor_popularity[\"Score\"].astype(\"float64\")\n",
    "\n",
    "plt.figure(figsize=(10,5))\n",
    "sns.scatterplot(x=\"Movies\", y=\"Total Votes\", hue=\"Score\", data=actor_popularity, alpha=0.7)\n",
    "plt.title(\"Actor Popularity: Number of Movies vs. Total Votes\")\n",
    "plt.show()"
   ]
  },
  {
   "cell_type": "code",
   "execution_count": 16,
   "metadata": {},
   "outputs": [
    {
     "name": "stdout",
     "output_type": "stream",
     "text": [
      "The most popular actor in 2020 based on our weighted score is: Rich Ceraulo Ko\n"
     ]
    }
   ],
   "source": [
    "# Summary of findings\n",
    "print(\"The most popular actor in 2020 based on our weighted score is:\", actor_popularity.iloc[0][\"primaryName\"])"
   ]
  }
 ],
 "metadata": {
  "kernelspec": {
   "display_name": "sample_env",
   "language": "python",
   "name": "python3"
  },
  "language_info": {
   "codemirror_mode": {
    "name": "ipython",
    "version": 3
   },
   "file_extension": ".py",
   "mimetype": "text/x-python",
   "name": "python",
   "nbconvert_exporter": "python",
   "pygments_lexer": "ipython3",
   "version": "3.11.11"
  }
 },
 "nbformat": 4,
 "nbformat_minor": 2
}
